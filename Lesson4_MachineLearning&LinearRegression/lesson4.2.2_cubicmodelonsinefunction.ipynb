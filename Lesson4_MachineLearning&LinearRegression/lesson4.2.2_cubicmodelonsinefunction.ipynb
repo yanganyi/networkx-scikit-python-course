{
 "cells": [
  {
   "cell_type": "code",
   "execution_count": null,
   "metadata": {},
   "outputs": [],
   "source": [
    "# Lesson 4 - Cubic model applied on to a sine function\n",
    "# Using linear regression to fit a cubic model on to a sine wave\n",
    "# Somehow this code doesn't run on a conventional Python file so here we are\n",
    "# 4.1 contains the whole code (copy it out)\n",
    "# 4.2.1 contains code separated by parts\n",
    "# 4.2.2 contains the code as a whole\n",
    "\n",
    "\n",
    "from sklearn import linear_model\n",
    "import numpy as np\n",
    "import matplotlib.pyplot as plt\n",
    "\n",
    "x_axis=np.linspace(-np.pi,np.pi,1000)\n",
    "# print(x_axis)\n",
    "y_axis=np.sin(x_axis)\n",
    "# print(y_axis)\n",
    "# plt.plot(x_axis,y_axis) # apparently only works in .ipynb\n",
    "\n",
    "features=np.array([\n",
    "    x_axis,\n",
    "    x_axis**2,\n",
    "    x_axis**3\n",
    "]).transpose() # inverts columns and rows\n",
    "labels=y_axis\n",
    "# now attempt to fit features against labels\n",
    "\n",
    "model=linear_model.LinearRegression()\n",
    "model.fit(features,labels)\n",
    "# print(model.coef_)\n",
    "model_out=np.array(model.coef_[0]*x_axis + model.coef_[1]*x_axis**2 + model.coef_[2]*x_axis**3)\n",
    "\n",
    "plt.plot(x_axis,model_out,label=\"Model\")\n",
    "plt.plot(x_axis,y_axis,label=\"Sine\")"
   ]
  },
  {
   "cell_type": "markdown",
   "metadata": {},
   "source": []
  }
 ],
 "metadata": {
  "kernelspec": {
   "display_name": "Python 3.10.4 64-bit",
   "language": "python",
   "name": "python3"
  },
  "language_info": {
   "codemirror_mode": {
    "name": "ipython",
    "version": 3
   },
   "file_extension": ".py",
   "mimetype": "text/x-python",
   "name": "python",
   "nbconvert_exporter": "python",
   "pygments_lexer": "ipython3",
   "version": "3.10.4"
  },
  "orig_nbformat": 4,
  "vscode": {
   "interpreter": {
    "hash": "46aa2a8091692720effa68e69f692b7a6d19cab1b3a89546e2028b7dfb4c75c5"
   }
  }
 },
 "nbformat": 4,
 "nbformat_minor": 2
}
