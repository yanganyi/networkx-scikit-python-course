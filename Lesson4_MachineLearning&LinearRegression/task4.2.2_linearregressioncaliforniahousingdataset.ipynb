{
 "cells": [
  {
   "cell_type": "code",
   "execution_count": null,
   "metadata": {},
   "outputs": [],
   "source": [
    "# Task 4.2 - Use linear regression on California housing dataset\n",
    "# Somehow this code doesn't run on a conventional Python file so here we are\n",
    "# 4.2.1 contains the whole code (copy it out)\n",
    "# 4.2.2 contains the code as a whole in .ipynb"
   ]
  },
  {
   "cell_type": "code",
   "execution_count": null,
   "metadata": {},
   "outputs": [],
   "source": [
    "import matplotlib.pyplot as plt\n",
    "import numpy as np\n",
    "from sklearn.linear_model import LinearRegression\n",
    "from sklearn import datasets\n",
    "from sklearn.model_selection import train_test_split\n",
    "\n",
    "housing=datasets.fetch_california_housing()\n",
    "# print(housing.data.shape)\n",
    "# print(housing.target.shape)\n",
    "# print(housing.target)\n",
    "# print(housing.feature_names)\n",
    "\n",
    "# test_size=0.2 means that 20% of the data will be used for testing\n",
    "x_train,x_test,y_train,y_test=train_test_split(housing.data,housing.target,test_size=0.2,random_state=0)\n",
    "# print(x_train.shape)\n",
    "# print(x_test.shape)\n",
    "\n",
    "model=LinearRegression()\n",
    "model.fit(x_train,y_train)\n",
    "\n",
    "model.score(x_test,y_test) # using test data to check how accurate it is"
   ]
  }
 ],
 "metadata": {
  "kernelspec": {
   "display_name": "Python 3.10.4 64-bit",
   "language": "python",
   "name": "python3"
  },
  "language_info": {
   "codemirror_mode": {
    "name": "ipython",
    "version": 3
   },
   "file_extension": ".py",
   "mimetype": "text/x-python",
   "name": "python",
   "nbconvert_exporter": "python",
   "pygments_lexer": "ipython3",
   "version": "3.10.4"
  },
  "orig_nbformat": 4,
  "vscode": {
   "interpreter": {
    "hash": "46aa2a8091692720effa68e69f692b7a6d19cab1b3a89546e2028b7dfb4c75c5"
   }
  }
 },
 "nbformat": 4,
 "nbformat_minor": 2
}
